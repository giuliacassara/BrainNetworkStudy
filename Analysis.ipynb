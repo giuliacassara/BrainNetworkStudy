{
 "cells": [
  {
   "cell_type": "code",
   "execution_count": 1,
   "metadata": {},
   "outputs": [],
   "source": [
    "import pyedflib\n",
    "import numpy as np\n",
    "import os"
   ]
  },
  {
   "cell_type": "code",
   "execution_count": 2,
   "metadata": {},
   "outputs": [
    {
     "name": "stdout",
     "output_type": "stream",
     "text": [
      "\n",
      "library version: 0.1.15\n",
      "\n",
      "general header:\n",
      "\n"
     ]
    },
    {
     "ename": "NameError",
     "evalue": "name 'f' is not defined",
     "output_type": "error",
     "traceback": [
      "\u001b[0;31m---------------------------------------------------------------------------\u001b[0m",
      "\u001b[0;31mNameError\u001b[0m                                 Traceback (most recent call last)",
      "\u001b[0;32m<ipython-input-2-bf547c7c5c12>\u001b[0m in \u001b[0;36m<module>\u001b[0;34m\u001b[0m\n\u001b[1;32m      3\u001b[0m \u001b[0mprint\u001b[0m\u001b[0;34m(\u001b[0m\u001b[0;34m\"\\ngeneral header:\\n\"\u001b[0m\u001b[0;34m)\u001b[0m\u001b[0;34m\u001b[0m\u001b[0;34m\u001b[0m\u001b[0m\n\u001b[1;32m      4\u001b[0m \u001b[0;34m\u001b[0m\u001b[0m\n\u001b[0;32m----> 5\u001b[0;31m \u001b[0mprint\u001b[0m\u001b[0;34m(\u001b[0m\u001b[0;34m\"edfsignals: %i\"\u001b[0m \u001b[0;34m%\u001b[0m \u001b[0mf\u001b[0m\u001b[0;34m.\u001b[0m\u001b[0msignals_in_file\u001b[0m\u001b[0;34m)\u001b[0m\u001b[0;34m\u001b[0m\u001b[0;34m\u001b[0m\u001b[0m\n\u001b[0m\u001b[1;32m      6\u001b[0m \u001b[0mprint\u001b[0m\u001b[0;34m(\u001b[0m\u001b[0;34m\"file duration: %i seconds\"\u001b[0m \u001b[0;34m%\u001b[0m \u001b[0mf\u001b[0m\u001b[0;34m.\u001b[0m\u001b[0mfile_duration\u001b[0m\u001b[0;34m)\u001b[0m\u001b[0;34m\u001b[0m\u001b[0;34m\u001b[0m\u001b[0m\n\u001b[1;32m      7\u001b[0m \u001b[0mprint\u001b[0m\u001b[0;34m(\u001b[0m\u001b[0;34m\"startdate: %i-%i-%i\"\u001b[0m \u001b[0;34m%\u001b[0m \u001b[0;34m(\u001b[0m\u001b[0mf\u001b[0m\u001b[0;34m.\u001b[0m\u001b[0mgetStartdatetime\u001b[0m\u001b[0;34m(\u001b[0m\u001b[0;34m)\u001b[0m\u001b[0;34m.\u001b[0m\u001b[0mday\u001b[0m\u001b[0;34m,\u001b[0m\u001b[0mf\u001b[0m\u001b[0;34m.\u001b[0m\u001b[0mgetStartdatetime\u001b[0m\u001b[0;34m(\u001b[0m\u001b[0;34m)\u001b[0m\u001b[0;34m.\u001b[0m\u001b[0mmonth\u001b[0m\u001b[0;34m,\u001b[0m\u001b[0mf\u001b[0m\u001b[0;34m.\u001b[0m\u001b[0mgetStartdatetime\u001b[0m\u001b[0;34m(\u001b[0m\u001b[0;34m)\u001b[0m\u001b[0;34m.\u001b[0m\u001b[0myear\u001b[0m\u001b[0;34m)\u001b[0m\u001b[0;34m)\u001b[0m\u001b[0;34m\u001b[0m\u001b[0;34m\u001b[0m\u001b[0m\n",
      "\u001b[0;31mNameError\u001b[0m: name 'f' is not defined"
     ]
    }
   ],
   "source": [
    "print(\"\\nlibrary version: %s\" % pyedflib.version.version)\n",
    "\n",
    "print(\"\\ngeneral header:\\n\")\n",
    "\n",
    "print(\"edfsignals: %i\" % f.signals_in_file)\n",
    "print(\"file duration: %i seconds\" % f.file_duration)\n",
    "print(\"startdate: %i-%i-%i\" % (f.getStartdatetime().day,f.getStartdatetime().month,f.getStartdatetime().year))\n",
    "print(\"starttime: %i:%02i:%02i\" % (f.getStartdatetime().hour,f.getStartdatetime().minute,f.getStartdatetime().second))\n",
    "print(\"patientcode: %s\" % f.getPatientCode())\n",
    "print(\"gender: %s\" % f.getGender())\n",
    "print(\"birthdate: %s\" % f.getBirthdate())\n",
    "print(\"patient_name: %s\" % f.getPatientName())\n",
    "print(\"patient_additional: %s\" % f.getPatientAdditional())\n",
    "print(\"admincode: %s\" % f.getAdmincode())\n",
    "print(\"technician: %s\" % f.getTechnician())\n",
    "print(\"equipment: %s\" % f.getEquipment())\n",
    "print(\"recording_additional: %s\" % f.getRecordingAdditional())\n",
    "print(\"datarecord duration: %f seconds\" % f.getFileDuration())\n",
    "print(\"number of datarecords in the file: %i\" % f.datarecords_in_file)\n",
    "print(\"number of annotations in the file: %i\" % f.annotations_in_file)"
   ]
  },
  {
   "cell_type": "code",
   "execution_count": null,
   "metadata": {},
   "outputs": [],
   "source": [
    "current_dir = os.getcwd()\n",
    "print(current_dir)\n",
    "subject = \"S026\"\n",
    "sub_edf = \"S026R01.edf\"\n",
    "file_name = os.path.join(current_dir, subject, sub_edf)\n",
    "f = pyedflib.EdfReader(file_name)\n",
    "n = f.signals_in_file\n",
    "signal_labels = f.getSignalLabels()\n",
    "sigbufs = np.zeros((n, f.getNSamples()[0]))\n",
    "for i in np.arange(n):\n",
    "    sigbufs[i, :] = f.readSignal(i)"
   ]
  },
  {
   "cell_type": "code",
   "execution_count": null,
   "metadata": {},
   "outputs": [],
   "source": [
    "print(sigbufs[0, :])\n",
    "sigbufs[i, :].dtype"
   ]
  },
  {
   "cell_type": "code",
   "execution_count": null,
   "metadata": {},
   "outputs": [],
   "source": [
    "channel = 3\n",
    "print(\"\\nsignal parameters for the %d.channel:\\n\\n\" % channel)\n",
    "\n",
    "print(\"label: %s\" % f.getLabel(channel))\n",
    "print(\"samples in file: %i\" % f.getNSamples()[channel])\n",
    "# print(\"samples in datarecord: %i\" % f.get\n",
    "print(\"physical maximum: %f\" % f.getPhysicalMaximum(channel))\n",
    "print(\"physical minimum: %f\" % f.getPhysicalMinimum(channel))\n",
    "print(\"digital maximum: %i\" % f.getDigitalMaximum(channel))\n",
    "print(\"digital minimum: %i\" % f.getDigitalMinimum(channel))\n",
    "print(\"physical dimension: %s\" % f.getPhysicalDimension(channel))\n",
    "print(\"prefilter: %s\" % f.getPrefilter(channel))\n",
    "print(\"transducer: %s\" % f.getTransducer(channel))\n",
    "print(\"samplefrequency: %f\" % f.getSampleFrequency(channel))\n",
    "\n",
    "annotations = f.readAnnotations()\n",
    "for n in np.arange(f.annotations_in_file):\n",
    "    print(\"annotation: onset is %f    duration is %s    description is %s\" % (annotations[0][n],annotations[1][n],annotations[2][n]))\n",
    "\n",
    "buf = f.readSignal(channel)\n",
    "n = 200\n",
    "print(\"\\nread %i samples\\n\" % n)\n",
    "result = \"\"\n",
    "for i in np.arange(n):\n",
    "    result += (\"%.1f, \" % buf[i])\n",
    "print(result)"
   ]
  },
  {
   "cell_type": "code",
   "execution_count": null,
   "metadata": {},
   "outputs": [],
   "source": []
  },
  {
   "cell_type": "code",
   "execution_count": null,
   "metadata": {},
   "outputs": [],
   "source": []
  },
  {
   "cell_type": "code",
   "execution_count": null,
   "metadata": {},
   "outputs": [],
   "source": []
  }
 ],
 "metadata": {
  "kernelspec": {
   "display_name": "Python 3",
   "language": "python",
   "name": "python3"
  },
  "language_info": {
   "codemirror_mode": {
    "name": "ipython",
    "version": 3
   },
   "file_extension": ".py",
   "mimetype": "text/x-python",
   "name": "python",
   "nbconvert_exporter": "python",
   "pygments_lexer": "ipython3",
   "version": "3.7.3"
  }
 },
 "nbformat": 4,
 "nbformat_minor": 2
}
