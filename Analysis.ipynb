{
 "cells": [
  {
   "cell_type": "code",
   "execution_count": 5,
   "metadata": {},
   "outputs": [],
   "source": [
    "import pyedflib\n",
    "import numpy as np\n",
    "import os\n",
    "import connectivipy as cp\n",
    "from connectivipy import mvar_gen"
   ]
  },
  {
   "cell_type": "code",
   "execution_count": 6,
   "metadata": {},
   "outputs": [
    {
     "name": "stdout",
     "output_type": "stream",
     "text": [
      "/home/giulia/corsi/bio/project/BigBrain\n"
     ]
    }
   ],
   "source": [
    "current_dir = os.getcwd()\n",
    "print(current_dir)\n",
    "subject = \"S079\"\n",
    "sub_edf = \"S079R01.edf\"\n",
    "file_name = os.path.join(current_dir, subject, sub_edf)\n",
    "f = pyedflib.EdfReader(file_name)\n",
    "n = f.signals_in_file\n",
    "signal_labels = f.getSignalLabels()\n",
    "#eo stands for eyes open, it is the numpy array corresponding to the first run\n",
    "eo = np.zeros((n, f.getNSamples()[0]))\n",
    "for i in np.arange(n):\n",
    "    eo[i, :] = f.readSignal(i)\n",
    "f.close()"
   ]
  },
  {
   "cell_type": "code",
   "execution_count": 7,
   "metadata": {},
   "outputs": [
    {
     "name": "stdout",
     "output_type": "stream",
     "text": [
      "\n",
      "library version: 0.1.15\n",
      "\n",
      "general header:\n",
      "\n",
      "edfsignals: 64\n",
      "file duration: 61 seconds\n",
      "startdate: 12-8-2009\n",
      "starttime: 16:15:00\n",
      "patientcode: \n",
      "gender: \n",
      "birthdate: \n",
      "patient_name: X\n",
      "patient_additional: \n",
      "admincode: \n",
      "technician: \n",
      "equipment: BCI2000\n",
      "recording_additional: \n",
      "datarecord duration: 61.000000 seconds\n",
      "number of datarecords in the file: 61\n",
      "number of annotations in the file: 1\n"
     ]
    }
   ],
   "source": [
    "print(\"\\nlibrary version: %s\" % pyedflib.version.version)\n",
    "print(\"\\ngeneral header:\\n\")\n",
    "print(\"edfsignals: %i\" % f.signals_in_file)\n",
    "print(\"file duration: %i seconds\" % f.file_duration)\n",
    "print(\"startdate: %i-%i-%i\" % (f.getStartdatetime().day,f.getStartdatetime().month,f.getStartdatetime().year))\n",
    "print(\"starttime: %i:%02i:%02i\" % (f.getStartdatetime().hour,f.getStartdatetime().minute,f.getStartdatetime().second))\n",
    "print(\"patientcode: %s\" % f.getPatientCode())\n",
    "print(\"gender: %s\" % f.getGender())\n",
    "print(\"birthdate: %s\" % f.getBirthdate())\n",
    "print(\"patient_name: %s\" % f.getPatientName())\n",
    "print(\"patient_additional: %s\" % f.getPatientAdditional())\n",
    "print(\"admincode: %s\" % f.getAdmincode())\n",
    "print(\"technician: %s\" % f.getTechnician())\n",
    "print(\"equipment: %s\" % f.getEquipment())\n",
    "print(\"recording_additional: %s\" % f.getRecordingAdditional())\n",
    "print(\"datarecord duration: %f seconds\" % f.getFileDuration())\n",
    "print(\"number of datarecords in the file: %i\" % f.datarecords_in_file)\n",
    "print(\"number of annotations in the file: %i\" % f.annotations_in_file)"
   ]
  },
  {
   "cell_type": "code",
   "execution_count": 8,
   "metadata": {},
   "outputs": [
    {
     "name": "stdout",
     "output_type": "stream",
     "text": [
      "/home/giulia/corsi/bio/project/BigBrain\n"
     ]
    }
   ],
   "source": [
    "current_dir = os.getcwd()\n",
    "print(current_dir)\n",
    "subject = \"S079\"\n",
    "sub_edf = \"S079R02.edf\"\n",
    "file_name = os.path.join(current_dir, subject, sub_edf)\n",
    "f = pyedflib.EdfReader(file_name)\n",
    "n = f.signals_in_file\n",
    "signal_labels = f.getSignalLabels()\n",
    "#ec stands for eyes closed, it is the numpy array corresponding to the second run\n",
    "ec = np.zeros((n, f.getNSamples()[0]))\n",
    "for i in np.arange(n):\n",
    "    ec[i, :] = f.readSignal(i)"
   ]
  },
  {
   "cell_type": "code",
   "execution_count": 9,
   "metadata": {},
   "outputs": [
    {
     "name": "stdout",
     "output_type": "stream",
     "text": [
      "\n",
      "library version: 0.1.15\n",
      "\n",
      "general header:\n",
      "\n",
      "edfsignals: 64\n",
      "file duration: 61 seconds\n",
      "startdate: 12-8-2009\n",
      "starttime: 16:15:00\n",
      "patientcode: \n",
      "gender: \n",
      "birthdate: \n",
      "patient_name: X\n",
      "patient_additional: \n",
      "admincode: \n",
      "technician: \n",
      "equipment: BCI2000\n",
      "recording_additional: \n",
      "datarecord duration: 61.000000 seconds\n",
      "number of datarecords in the file: 61\n",
      "number of annotations in the file: 1\n"
     ]
    }
   ],
   "source": [
    "print(\"\\nlibrary version: %s\" % pyedflib.version.version)\n",
    "print(\"\\ngeneral header:\\n\")\n",
    "print(\"edfsignals: %i\" % f.signals_in_file)\n",
    "print(\"file duration: %i seconds\" % f.file_duration)\n",
    "print(\"startdate: %i-%i-%i\" % (f.getStartdatetime().day,f.getStartdatetime().month,f.getStartdatetime().year))\n",
    "print(\"starttime: %i:%02i:%02i\" % (f.getStartdatetime().hour,f.getStartdatetime().minute,f.getStartdatetime().second))\n",
    "print(\"patientcode: %s\" % f.getPatientCode())\n",
    "print(\"gender: %s\" % f.getGender())\n",
    "print(\"birthdate: %s\" % f.getBirthdate())\n",
    "print(\"patient_name: %s\" % f.getPatientName())\n",
    "print(\"patient_additional: %s\" % f.getPatientAdditional())\n",
    "print(\"admincode: %s\" % f.getAdmincode())\n",
    "print(\"technician: %s\" % f.getTechnician())\n",
    "print(\"equipment: %s\" % f.getEquipment())\n",
    "print(\"recording_additional: %s\" % f.getRecordingAdditional())\n",
    "print(\"datarecord duration: %f seconds\" % f.getFileDuration())\n",
    "print(\"number of datarecords in the file: %i\" % f.datarecords_in_file)\n",
    "print(\"number of annotations in the file: %i\" % f.annotations_in_file)"
   ]
  },
  {
   "cell_type": "code",
   "execution_count": 10,
   "metadata": {},
   "outputs": [],
   "source": [
    "f.close()"
   ]
  },
  {
   "cell_type": "markdown",
   "metadata": {},
   "source": [
    "###### 1.1 \n",
    "Estimate functional brain connectivity among 64 channels using one of the\n",
    "MVAR estimators: Partial Directed Coherence (PDC), Direct Transfer Function (DTF). Select\n",
    "one relevant frequency value. Apply a threshold so that the resulting binary connectivity\n",
    "matrices have network density equal to 20%. Create a graphical representation of the binary\n",
    "adjacency matrix."
   ]
  },
  {
   "cell_type": "code",
   "execution_count": 11,
   "metadata": {},
   "outputs": [
    {
     "name": "stderr",
     "output_type": "stream",
     "text": [
      "/home/giulia/anaconda3/lib/python3.7/site-packages/connectivipy/mvar/fitting.py:267: FutureWarning: arrays to stack must be passed as a \"sequence\" type such as list or tuple. Support for non-sequence iterables such as generators is deprecated as of NumPy 1.16 and will raise an error in the future.\n",
      "  req = np.vstack(rr_b[:, :, x].T for x in range(1, pmax+1))\n"
     ]
    }
   ],
   "source": [
    "#fitting in the model for eo with method yule-walker\n",
    "model_eo = cp.Mvar().fit(eo, method = \"yw\")\n",
    "\n",
    "#compute PDC\n",
    "eo_pdc=cp.conn.pdc_fun(model_eo[0],model_eo[1],fs = 160, resolution = 100)[10,:,:]\n",
    "np.fill_diagonal(eo_pdc,0)\n",
    "\n",
    "#find our threshold\n",
    "density=0.2 #set the density to 0.2\n",
    "n = eo_pdc.shape[0]  \n",
    "num_edges = int((density*n*(n-1))/2)    \n",
    "threshold = -np.sort(-eo_pdc, axis = None)[num_edges+1]\n",
    "\n",
    "#adj_matrix\n",
    "eo_adj = (eo_pdc > threshold).astype(int)"
   ]
  },
  {
   "cell_type": "code",
   "execution_count": 12,
   "metadata": {},
   "outputs": [],
   "source": [
    "#fitting in the model for eo with method yule-walker\n",
    "model_ec = cp.Mvar().fit(ec, method = \"yw\")\n",
    "\n",
    "#compute PDC\n",
    "ec_pdc=cp.conn.pdc_fun(model_ec[0],model_ec[1],fs = 160, resolution = 100)[10,:,:]\n",
    "np.fill_diagonal(ec_pdc,0)\n",
    "\n",
    "#find our threshold\n",
    "density=0.2 #set the density to 0.2\n",
    "n = ec_pdc.shape[0]  \n",
    "num_edges = int((density*n*(n-1))/2)    \n",
    "threshold = -np.sort(-ec_pdc, axis = None)[num_edges+1]\n",
    "\n",
    "#adj_matrix\n",
    "ec_adj = (ec_pdc > threshold).astype(int)"
   ]
  },
  {
   "cell_type": "code",
   "execution_count": 13,
   "metadata": {},
   "outputs": [],
   "source": [
    "#Create graphical representation of the binary adjacency matrix"
   ]
  },
  {
   "cell_type": "code",
   "execution_count": null,
   "metadata": {},
   "outputs": [],
   "source": []
  },
  {
   "cell_type": "code",
   "execution_count": null,
   "metadata": {},
   "outputs": [],
   "source": []
  },
  {
   "cell_type": "code",
   "execution_count": null,
   "metadata": {},
   "outputs": [],
   "source": [
    "#GRAPH THEORY \n",
    "\n",
    "# COMPUTE BINARY GLOBAL (CLUSTERING COEFFICIENT, PATH LENGHT) AND LOCAL (DEGREE, IN/OUT-DEGREE) GRAPH INDICES.\n",
    "# LIST THE HIGHEST 10 CHANNELS FOR LOCAL INDICES."
   ]
  },
  {
   "cell_type": "code",
   "execution_count": null,
   "metadata": {},
   "outputs": [],
   "source": [
    "sigbufs.shape"
   ]
  },
  {
   "cell_type": "code",
   "execution_count": null,
   "metadata": {},
   "outputs": [],
   "source": [
    "import networkx as nx "
   ]
  },
  {
   "cell_type": "code",
   "execution_count": null,
   "metadata": {},
   "outputs": [],
   "source": [
    "G = nx.Graph(sigbufs)"
   ]
  },
  {
   "cell_type": "code",
   "execution_count": null,
   "metadata": {},
   "outputs": [],
   "source": []
  }
 ],
 "metadata": {
  "kernelspec": {
   "display_name": "Python 3",
   "language": "python",
   "name": "python3"
  },
  "language_info": {
   "codemirror_mode": {
    "name": "ipython",
    "version": 3
   },
   "file_extension": ".py",
   "mimetype": "text/x-python",
   "name": "python",
   "nbconvert_exporter": "python",
   "pygments_lexer": "ipython3",
   "version": "3.7.3"
  }
 },
 "nbformat": 4,
 "nbformat_minor": 4
}
