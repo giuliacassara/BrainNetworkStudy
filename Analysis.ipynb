{
 "cells": [
  {
   "cell_type": "code",
   "execution_count": 1,
   "metadata": {},
   "outputs": [],
   "source": [
    "import pyedflib\n",
    "import numpy as np\n",
    "import os"
   ]
  },
  {
   "cell_type": "code",
   "execution_count": 3,
   "metadata": {},
   "outputs": [
    {
     "name": "stdout",
     "output_type": "stream",
     "text": [
      "/home/giulia/corsi/bio/project/BigBrain\n"
     ]
    }
   ],
   "source": [
    "current_dir = os.getcwd()\n",
    "print(current_dir)\n",
    "subject = \"S026\"\n",
    "sub_edf = \"S026R01.edf\"\n",
    "file_name = os.path.join(current_dir, subject, sub_edf)\n",
    "f = pyedflib.EdfReader(file_name)\n",
    "n = f.signals_in_file\n",
    "signal_labels = f.getSignalLabels()\n",
    "sigbufs = np.zeros((n, f.getNSamples()[0]))\n",
    "for i in np.arange(n):\n",
    "    sigbufs[i, :] = f.readSignal(i)"
   ]
  },
  {
   "cell_type": "code",
   "execution_count": 4,
   "metadata": {},
   "outputs": [
    {
     "name": "stdout",
     "output_type": "stream",
     "text": [
      "\n",
      "library version: 0.1.15\n",
      "\n",
      "general header:\n",
      "\n",
      "edfsignals: 64\n",
      "file duration: 61 seconds\n",
      "startdate: 12-8-2009\n",
      "starttime: 16:15:00\n",
      "patientcode: \n",
      "gender: \n",
      "birthdate: \n",
      "patient_name: X\n",
      "patient_additional: \n",
      "admincode: \n",
      "technician: \n",
      "equipment: BCI2000\n",
      "recording_additional: \n",
      "datarecord duration: 61.000000 seconds\n",
      "number of datarecords in the file: 61\n",
      "number of annotations in the file: 1\n"
     ]
    }
   ],
   "source": [
    "print(\"\\nlibrary version: %s\" % pyedflib.version.version)\n",
    "\n",
    "print(\"\\ngeneral header:\\n\")\n",
    "\n",
    "print(\"edfsignals: %i\" % f.signals_in_file)\n",
    "print(\"file duration: %i seconds\" % f.file_duration)\n",
    "print(\"startdate: %i-%i-%i\" % (f.getStartdatetime().day,f.getStartdatetime().month,f.getStartdatetime().year))\n",
    "print(\"starttime: %i:%02i:%02i\" % (f.getStartdatetime().hour,f.getStartdatetime().minute,f.getStartdatetime().second))\n",
    "print(\"patientcode: %s\" % f.getPatientCode())\n",
    "print(\"gender: %s\" % f.getGender())\n",
    "print(\"birthdate: %s\" % f.getBirthdate())\n",
    "print(\"patient_name: %s\" % f.getPatientName())\n",
    "print(\"patient_additional: %s\" % f.getPatientAdditional())\n",
    "print(\"admincode: %s\" % f.getAdmincode())\n",
    "print(\"technician: %s\" % f.getTechnician())\n",
    "print(\"equipment: %s\" % f.getEquipment())\n",
    "print(\"recording_additional: %s\" % f.getRecordingAdditional())\n",
    "print(\"datarecord duration: %f seconds\" % f.getFileDuration())\n",
    "print(\"number of datarecords in the file: %i\" % f.datarecords_in_file)\n",
    "print(\"number of annotations in the file: %i\" % f.annotations_in_file)"
   ]
  },
  {
   "cell_type": "code",
   "execution_count": 5,
   "metadata": {},
   "outputs": [
    {
     "name": "stdout",
     "output_type": "stream",
     "text": [
      "[33. 38.  3. ...  0.  0.  0.]\n"
     ]
    },
    {
     "data": {
      "text/plain": [
       "dtype('float64')"
      ]
     },
     "execution_count": 5,
     "metadata": {},
     "output_type": "execute_result"
    }
   ],
   "source": [
    "print(sigbufs[0, :])\n",
    "sigbufs[i, :].dtype"
   ]
  },
  {
   "cell_type": "code",
   "execution_count": 6,
   "metadata": {},
   "outputs": [
    {
     "name": "stdout",
     "output_type": "stream",
     "text": [
      "\n",
      "signal parameters for the 3.channel:\n",
      "\n",
      "\n",
      "label: Fcz.\n",
      "samples in file: 9760\n",
      "physical maximum: 8092.000000\n",
      "physical minimum: -8092.000000\n",
      "digital maximum: 8092\n",
      "digital minimum: -8092\n",
      "physical dimension: uV\n",
      "prefilter: HP:0Hz LP:0Hz N:0Hz\n",
      "transducer: BCI2000\n",
      "samplefrequency: 160.000000\n",
      "annotation: onset is 0.000000    duration is 60.2    description is T0\n",
      "\n",
      "read 200 samples\n",
      "\n",
      "13.0, 2.0, -19.0, 2.0, -10.0, -19.0, 1.0, -14.0, -18.0, -44.0, -30.0, -26.0, -25.0, -8.0, 0.0, -25.0, -24.0, -18.0, -21.0, 0.0, -28.0, -29.0, 14.0, 3.0, 7.0, 6.0, -1.0, 14.0, -4.0, -3.0, -1.0, -7.0, 3.0, 31.0, 5.0, -3.0, -20.0, -11.0, 20.0, 12.0, -12.0, -14.0, -5.0, 8.0, -11.0, -11.0, 13.0, -7.0, -16.0, -1.0, -7.0, -7.0, -6.0, 1.0, 46.0, 27.0, -3.0, -20.0, -16.0, -5.0, -18.0, 2.0, -1.0, -28.0, -21.0, -14.0, -4.0, 21.0, 41.0, 54.0, 47.0, 62.0, 68.0, 67.0, 51.0, 40.0, 40.0, 36.0, 28.0, -6.0, 10.0, 22.0, -8.0, -12.0, 6.0, 9.0, 10.0, 18.0, 0.0, 17.0, 26.0, 25.0, 36.0, 36.0, 19.0, -3.0, 5.0, 7.0, 20.0, 22.0, 1.0, 15.0, 8.0, -7.0, -3.0, -3.0, -16.0, -39.0, -17.0, 10.0, -7.0, -3.0, 22.0, 4.0, 10.0, 15.0, -17.0, -20.0, -2.0, -5.0, -4.0, -2.0, -6.0, 11.0, 12.0, -3.0, 23.0, 35.0, 34.0, 86.0, 64.0, 60.0, 75.0, 83.0, 99.0, 96.0, 103.0, 124.0, 87.0, 95.0, 93.0, 91.0, 76.0, 49.0, 62.0, 66.0, 42.0, 45.0, 34.0, 26.0, 15.0, 25.0, 4.0, 1.0, -2.0, 15.0, 14.0, 20.0, 21.0, 11.0, 16.0, 18.0, 4.0, 3.0, -24.0, -6.0, 18.0, 3.0, 3.0, 17.0, -8.0, 10.0, 19.0, -6.0, 16.0, -4.0, -23.0, -28.0, -23.0, -18.0, -8.0, -18.0, -10.0, -9.0, -15.0, -16.0, -40.0, -27.0, -6.0, -31.0, -48.0, -35.0, -12.0, -53.0, -32.0, -15.0, -32.0, -30.0, -22.0, -27.0, \n"
     ]
    }
   ],
   "source": [
    "channel = 3\n",
    "print(\"\\nsignal parameters for the %d.channel:\\n\\n\" % channel)\n",
    "\n",
    "print(\"label: %s\" % f.getLabel(channel))\n",
    "print(\"samples in file: %i\" % f.getNSamples()[channel])\n",
    "# print(\"samples in datarecord: %i\" % f.get\n",
    "print(\"physical maximum: %f\" % f.getPhysicalMaximum(channel))\n",
    "print(\"physical minimum: %f\" % f.getPhysicalMinimum(channel))\n",
    "print(\"digital maximum: %i\" % f.getDigitalMaximum(channel))\n",
    "print(\"digital minimum: %i\" % f.getDigitalMinimum(channel))\n",
    "print(\"physical dimension: %s\" % f.getPhysicalDimension(channel))\n",
    "print(\"prefilter: %s\" % f.getPrefilter(channel))\n",
    "print(\"transducer: %s\" % f.getTransducer(channel))\n",
    "print(\"samplefrequency: %f\" % f.getSampleFrequency(channel))\n",
    "\n",
    "annotations = f.readAnnotations()\n",
    "for n in np.arange(f.annotations_in_file):\n",
    "    print(\"annotation: onset is %f    duration is %s    description is %s\" % (annotations[0][n],annotations[1][n],annotations[2][n]))\n",
    "\n",
    "buf = f.readSignal(channel)\n",
    "n = 200\n",
    "print(\"\\nread %i samples\\n\" % n)\n",
    "result = \"\"\n",
    "for i in np.arange(n):\n",
    "    result += (\"%.1f, \" % buf[i])\n",
    "print(result)"
   ]
  },
  {
   "cell_type": "code",
   "execution_count": null,
   "metadata": {},
   "outputs": [],
   "source": []
  },
  {
   "cell_type": "code",
   "execution_count": null,
   "metadata": {},
   "outputs": [],
   "source": []
  },
  {
   "cell_type": "code",
   "execution_count": null,
   "metadata": {},
   "outputs": [],
   "source": []
  }
 ],
 "metadata": {
  "kernelspec": {
   "display_name": "Python 3",
   "language": "python",
   "name": "python3"
  },
  "language_info": {
   "codemirror_mode": {
    "name": "ipython",
    "version": 3
   },
   "file_extension": ".py",
   "mimetype": "text/x-python",
   "name": "python",
   "nbconvert_exporter": "python",
   "pygments_lexer": "ipython3",
   "version": "3.7.3"
  }
 },
 "nbformat": 4,
 "nbformat_minor": 2
}
